{
 "cells": [
  {
   "cell_type": "code",
   "execution_count": 3,
   "id": "eba02736-0570-4a42-a94c-8b78c29e1945",
   "metadata": {},
   "outputs": [],
   "source": [
    "\n",
    "import os\n",
    "import pandas as pd\n",
    "import numpy as np\n",
    "import matplotlib.pyplot as plt\n",
    "from ipywidgets import FloatSlider, RadioButtons, VBox, HBox, Output\n",
    "from IPython.display import display\n",
    "\n",
    "\n",
    "signal_data_by_mass = {}\n",
    "for file in os.listdir():\n",
    "    if file.startswith(\"DM_\") and file.endswith(\".csv\"):\n",
    "        mass_str = file.split(\"_\")[1].replace(\".csv\", \"\")\n",
    "        try:\n",
    "            mass = int(mass_str)\n",
    "            signal_data_by_mass[mass] = pd.read_csv(file)\n",
    "        except ValueError:\n",
    "            continue\n",
    "\n",
    "\n",
    "background_data = {}\n",
    "background_labels = [\"WZ\", \"ZZ\", \"Z+jets\", \"Non-resonant_ll\"]\n",
    "for label in background_labels:\n",
    "    for file in os.listdir():\n",
    "        if file.startswith(label) and file.endswith(\".csv\"):\n",
    "            background_data[label] = pd.read_csv(file)\n",
    "\n",
    "\n",
    "def interactive_histogram(variable):\n",
    "    output = Output()\n",
    "    \n",
    "    etmiss_min_slider = FloatSlider(value=0, min=0, max=1700, step=50, description=\"Min ETmiss\")\n",
    "    etmiss_max_slider = FloatSlider(value=1750, min=50, max=1750, step=50, description=\"Max ETmiss\")\n",
    "    bjet_radio = RadioButtons(options=['0', '1', '2'], description=\"Bjets\", layout={\"width\": \"150px\"})\n",
    "\n",
    "    def update(*args):\n",
    "        with output:\n",
    "            output.clear_output()\n",
    "            plt.figure(figsize=(10, 6))\n",
    "            \n",
    "            \n",
    "            for label in background_labels:\n",
    "                df = background_data.get(label)\n",
    "                if df is not None:\n",
    "                    df_cut = df[\n",
    "                        (df['ETmiss'] >= etmiss_min_slider.value) &\n",
    "                        (df['ETmiss'] <= etmiss_max_slider.value) &\n",
    "                        (df['N_bjets'] == int(bjet_radio.value))\n",
    "                    ]\n",
    "                    weights = df_cut['totalWeight']\n",
    "                    plt.hist(df_cut[variable], bins=40, weights=weights,\n",
    "                             label=f\"Background: {label}\", alpha=0.4)\n",
    "\n",
    "            \n",
    "            for mass in sorted(signal_data_by_mass.keys(), reverse=True):\n",
    "                df = signal_data_by_mass[mass]\n",
    "                df_cut = df[\n",
    "                    (df['ETmiss'] >= etmiss_min_slider.value) &\n",
    "                    (df['ETmiss'] <= etmiss_max_slider.value) &\n",
    "                    (df['N_bjets'] == int(bjet_radio.value))\n",
    "                ]\n",
    "                weights = df_cut['totalWeight']\n",
    "                plt.hist(df_cut[variable], bins=40, weights=weights,\n",
    "                         label=f\"Signal {mass} GeV\", histtype=\"step\", linewidth=2)\n",
    "\n",
    "            plt.xlabel(variable)\n",
    "            plt.ylabel(\"Weighted Events\")\n",
    "            plt.title(f\"{variable} with ETmiss ∈ [{etmiss_min_slider.value}, {etmiss_max_slider.value}] and {bjet_radio.value} b-jets\")\n",
    "            plt.legend(loc=\"upper right\")\n",
    "            plt.grid(True)\n",
    "            plt.show()\n",
    "\n",
    "    \n",
    "    etmiss_min_slider.observe(update, names=\"value\")\n",
    "    etmiss_max_slider.observe(update, names=\"value\")\n",
    "    bjet_radio.observe(update, names=\"value\")\n",
    "    \n",
    "    \n",
    "    ui = HBox([VBox([etmiss_min_slider, etmiss_max_slider]), bjet_radio])\n",
    "    display(ui, output)\n",
    "\n",
    "    \n",
    "    update()\n"
   ]
  },
  {
   "cell_type": "code",
   "execution_count": 4,
   "id": "3188588b-b119-4cb4-b721-93f25cd54c86",
   "metadata": {},
   "outputs": [
    {
     "data": {
      "application/vnd.jupyter.widget-view+json": {
       "model_id": "84a7544e6cf447ba8d206bfa876c6436",
       "version_major": 2,
       "version_minor": 0
      },
      "text/plain": [
       "HBox(children=(VBox(children=(FloatSlider(value=0.0, description='Min ETmiss', max=1700.0, step=50.0), FloatSl…"
      ]
     },
     "metadata": {},
     "output_type": "display_data"
    },
    {
     "data": {
      "application/vnd.jupyter.widget-view+json": {
       "model_id": "d972fea746ca4500b3c649903f280e08",
       "version_major": 2,
       "version_minor": 0
      },
      "text/plain": [
       "Output()"
      ]
     },
     "metadata": {},
     "output_type": "display_data"
    },
    {
     "data": {
      "application/vnd.jupyter.widget-view+json": {
       "model_id": "eb858850c1fe45538e2cc2827b83232c",
       "version_major": 2,
       "version_minor": 0
      },
      "text/plain": [
       "HBox(children=(VBox(children=(FloatSlider(value=0.0, description='Min ETmiss', max=1700.0, step=50.0), FloatSl…"
      ]
     },
     "metadata": {},
     "output_type": "display_data"
    },
    {
     "data": {
      "application/vnd.jupyter.widget-view+json": {
       "model_id": "70dd1091085343ab80a234c6f4ff9137",
       "version_major": 2,
       "version_minor": 0
      },
      "text/plain": [
       "Output()"
      ]
     },
     "metadata": {},
     "output_type": "display_data"
    },
    {
     "data": {
      "application/vnd.jupyter.widget-view+json": {
       "model_id": "f858c4e8980d4c15b293fb3062e6dc14",
       "version_major": 2,
       "version_minor": 0
      },
      "text/plain": [
       "HBox(children=(VBox(children=(FloatSlider(value=0.0, description='Min ETmiss', max=1700.0, step=50.0), FloatSl…"
      ]
     },
     "metadata": {},
     "output_type": "display_data"
    },
    {
     "data": {
      "application/vnd.jupyter.widget-view+json": {
       "model_id": "fafe14fcc73d4015b88f4dfd0ae85b70",
       "version_major": 2,
       "version_minor": 0
      },
      "text/plain": [
       "Output()"
      ]
     },
     "metadata": {},
     "output_type": "display_data"
    },
    {
     "data": {
      "application/vnd.jupyter.widget-view+json": {
       "model_id": "d4d27b881d8744fea98b30f2eae6284c",
       "version_major": 2,
       "version_minor": 0
      },
      "text/plain": [
       "HBox(children=(VBox(children=(FloatSlider(value=0.0, description='Min ETmiss', max=1700.0, step=50.0), FloatSl…"
      ]
     },
     "metadata": {},
     "output_type": "display_data"
    },
    {
     "data": {
      "application/vnd.jupyter.widget-view+json": {
       "model_id": "327b2a534b964e1d92b60ddd908efe54",
       "version_major": 2,
       "version_minor": 0
      },
      "text/plain": [
       "Output()"
      ]
     },
     "metadata": {},
     "output_type": "display_data"
    }
   ],
   "source": [
    "interactive_histogram(\"ETmiss\")\n",
    "interactive_histogram(\"mll\")\n",
    "interactive_histogram(\"lead_lep_pt\")\n",
    "interactive_histogram(\"dRll\")\n"
   ]
  }
 ],
 "metadata": {
  "kernelspec": {
   "display_name": "Python [conda env:base] *",
   "language": "python",
   "name": "conda-base-py"
  },
  "language_info": {
   "codemirror_mode": {
    "name": "ipython",
    "version": 3
   },
   "file_extension": ".py",
   "mimetype": "text/x-python",
   "name": "python",
   "nbconvert_exporter": "python",
   "pygments_lexer": "ipython3",
   "version": "3.13.5"
  }
 },
 "nbformat": 4,
 "nbformat_minor": 5
}
