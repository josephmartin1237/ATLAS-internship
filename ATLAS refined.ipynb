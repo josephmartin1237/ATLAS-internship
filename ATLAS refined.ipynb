{
 "cells": [
  {
   "cell_type": "code",
   "execution_count": 1,
   "id": "eba02736-0570-4a42-a94c-8b78c29e1945",
   "metadata": {},
   "outputs": [],
   "source": [
    "\n",
    "import os\n",
    "import pandas as pd\n",
    "import numpy as np\n",
    "import matplotlib.pyplot as plt\n",
    "from ipywidgets import FloatSlider, RadioButtons, VBox, HBox, Output\n",
    "from IPython.display import display\n",
    "\n",
    "\n",
    "signal_data_by_mass = {}\n",
    "for file in os.listdir():\n",
    "    if file.startswith(\"DM_\") and file.endswith(\".csv\"):\n",
    "        mass_str = file.split(\"_\")[1].replace(\".csv\", \"\")\n",
    "        try:\n",
    "            mass = int(mass_str)\n",
    "            signal_data_by_mass[mass] = pd.read_csv(file)\n",
    "        except ValueError:\n",
    "            continue\n",
    "\n",
    "\n",
    "background_data = {}\n",
    "background_labels = [\"WZ\", \"ZZ\", \"Z+jets\", \"Non-resonant_ll\"]\n",
    "for label in background_labels:\n",
    "    for file in os.listdir():\n",
    "        if file.startswith(label) and file.endswith(\".csv\"):\n",
    "            background_data[label] = pd.read_csv(file)\n",
    "\n",
    "\n",
    "def interactive_histogram(variable):\n",
    "    output = Output()\n",
    "    \n",
    "    etmiss_min_slider = FloatSlider(value=0, min=0, max=1700, step=50, description=\"Min ETmiss\")\n",
    "    etmiss_max_slider = FloatSlider(value=1750, min=50, max=1750, step=50, description=\"Max ETmiss\")\n",
    "    bjet_radio = RadioButtons(options=['0', '1', '2'], description=\"Bjets\", layout={\"width\": \"150px\"})\n",
    "\n",
    "    def update(*args):\n",
    "        with output:\n",
    "            output.clear_output()\n",
    "            plt.figure(figsize=(10, 6))\n",
    "            \n",
    "            \n",
    "            for label in background_labels:\n",
    "                df = background_data.get(label)\n",
    "                if df is not None:\n",
    "                    df_cut = df[\n",
    "                        (df['ETmiss'] >= etmiss_min_slider.value) &\n",
    "                        (df['ETmiss'] <= etmiss_max_slider.value) &\n",
    "                        (df['N_bjets'] == int(bjet_radio.value))\n",
    "                    ]\n",
    "                    weights = df_cut['totalWeight']\n",
    "                    plt.hist(df_cut[variable], bins=40, weights=weights,\n",
    "                             label=f\"Background: {label}\", alpha=0.4)\n",
    "\n",
    "            \n",
    "            for mass in sorted(signal_data_by_mass.keys(), reverse=True):\n",
    "                df = signal_data_by_mass[mass]\n",
    "                df_cut = df[\n",
    "                    (df['ETmiss'] >= etmiss_min_slider.value) &\n",
    "                    (df['ETmiss'] <= etmiss_max_slider.value) &\n",
    "                    (df['N_bjets'] == int(bjet_radio.value))\n",
    "                ]\n",
    "                weights = df_cut['totalWeight']\n",
    "                plt.hist(df_cut[variable], bins=40, weights=weights,\n",
    "                         label=f\"Signal {mass} GeV\", histtype=\"step\", linewidth=2)\n",
    "\n",
    "            plt.xlabel(variable)\n",
    "            plt.ylabel(\"Weighted Events\")\n",
    "            plt.title(f\"{variable} with ETmiss ∈ [{etmiss_min_slider.value}, {etmiss_max_slider.value}] and {bjet_radio.value} b-jets\")\n",
    "            plt.legend(loc=\"upper right\")\n",
    "            plt.grid(True)\n",
    "            plt.show()\n",
    "\n",
    "    \n",
    "    etmiss_min_slider.observe(update, names=\"value\")\n",
    "    etmiss_max_slider.observe(update, names=\"value\")\n",
    "    bjet_radio.observe(update, names=\"value\")\n",
    "    \n",
    "    \n",
    "    ui = HBox([VBox([etmiss_min_slider, etmiss_max_slider]), bjet_radio])\n",
    "    display(ui, output)\n",
    "\n",
    "    \n",
    "    update()\n"
   ]
  },
  {
   "cell_type": "code",
   "execution_count": 2,
   "id": "3188588b-b119-4cb4-b721-93f25cd54c86",
   "metadata": {},
   "outputs": [
    {
     "data": {
      "application/vnd.jupyter.widget-view+json": {
       "model_id": "264d12ec0aa4469bba343b05da7114a4",
       "version_major": 2,
       "version_minor": 0
      },
      "text/plain": [
       "HBox(children=(VBox(children=(FloatSlider(value=0.0, description='Min ETmiss', max=1700.0, step=50.0), FloatSl…"
      ]
     },
     "metadata": {},
     "output_type": "display_data"
    },
    {
     "data": {
      "application/vnd.jupyter.widget-view+json": {
       "model_id": "f63db3cfbbd242baa749796917f447ca",
       "version_major": 2,
       "version_minor": 0
      },
      "text/plain": [
       "Output()"
      ]
     },
     "metadata": {},
     "output_type": "display_data"
    },
    {
     "data": {
      "application/vnd.jupyter.widget-view+json": {
       "model_id": "f897cf2bf1bb4ecb9e2bec9996bdcb85",
       "version_major": 2,
       "version_minor": 0
      },
      "text/plain": [
       "HBox(children=(VBox(children=(FloatSlider(value=0.0, description='Min ETmiss', max=1700.0, step=50.0), FloatSl…"
      ]
     },
     "metadata": {},
     "output_type": "display_data"
    },
    {
     "data": {
      "application/vnd.jupyter.widget-view+json": {
       "model_id": "db54d0050ac64f799cc953a573015217",
       "version_major": 2,
       "version_minor": 0
      },
      "text/plain": [
       "Output()"
      ]
     },
     "metadata": {},
     "output_type": "display_data"
    },
    {
     "data": {
      "application/vnd.jupyter.widget-view+json": {
       "model_id": "b1ee585b91ef4f2fb133816ae7bc6c37",
       "version_major": 2,
       "version_minor": 0
      },
      "text/plain": [
       "HBox(children=(VBox(children=(FloatSlider(value=0.0, description='Min ETmiss', max=1700.0, step=50.0), FloatSl…"
      ]
     },
     "metadata": {},
     "output_type": "display_data"
    },
    {
     "data": {
      "application/vnd.jupyter.widget-view+json": {
       "model_id": "1a216440c15747f6b50cfbad499de5b9",
       "version_major": 2,
       "version_minor": 0
      },
      "text/plain": [
       "Output()"
      ]
     },
     "metadata": {},
     "output_type": "display_data"
    },
    {
     "data": {
      "application/vnd.jupyter.widget-view+json": {
       "model_id": "e782d927f49a4b22bc51b4cb6ac3ebf0",
       "version_major": 2,
       "version_minor": 0
      },
      "text/plain": [
       "HBox(children=(VBox(children=(FloatSlider(value=0.0, description='Min ETmiss', max=1700.0, step=50.0), FloatSl…"
      ]
     },
     "metadata": {},
     "output_type": "display_data"
    },
    {
     "data": {
      "application/vnd.jupyter.widget-view+json": {
       "model_id": "e0f2b75e35bd4156963f904d953e88ae",
       "version_major": 2,
       "version_minor": 0
      },
      "text/plain": [
       "Output()"
      ]
     },
     "metadata": {},
     "output_type": "display_data"
    }
   ],
   "source": [
    "interactive_histogram(\"ETmiss\")\n",
    "interactive_histogram(\"mll\")\n",
    "interactive_histogram(\"lead_lep_pt\")\n",
    "interactive_histogram(\"dRll\")\n"
   ]
  },
  {
   "cell_type": "code",
   "execution_count": 1,
   "id": "705b034e-1db0-445c-a20c-df3139dc59de",
   "metadata": {},
   "outputs": [],
   "source": []
  },
  {
   "cell_type": "code",
   "execution_count": 3,
   "id": "12699328-1b35-43af-8292-57cd486572eb",
   "metadata": {},
   "outputs": [
    {
     "ename": "KeyError",
     "evalue": "'nBJets'",
     "output_type": "error",
     "traceback": [
      "\u001b[1;31m---------------------------------------------------------------------------\u001b[0m",
      "\u001b[1;31mKeyError\u001b[0m                                  Traceback (most recent call last)",
      "File \u001b[1;32mD:\\Anaconda\\Lib\\site-packages\\pandas\\core\\indexes\\base.py:3805\u001b[0m, in \u001b[0;36mIndex.get_loc\u001b[1;34m(self, key)\u001b[0m\n\u001b[0;32m   3804\u001b[0m \u001b[38;5;28;01mtry\u001b[39;00m:\n\u001b[1;32m-> 3805\u001b[0m     \u001b[38;5;28;01mreturn\u001b[39;00m \u001b[38;5;28mself\u001b[39m\u001b[38;5;241m.\u001b[39m_engine\u001b[38;5;241m.\u001b[39mget_loc(casted_key)\n\u001b[0;32m   3806\u001b[0m \u001b[38;5;28;01mexcept\u001b[39;00m \u001b[38;5;167;01mKeyError\u001b[39;00m \u001b[38;5;28;01mas\u001b[39;00m err:\n",
      "File \u001b[1;32mindex.pyx:167\u001b[0m, in \u001b[0;36mpandas._libs.index.IndexEngine.get_loc\u001b[1;34m()\u001b[0m\n",
      "File \u001b[1;32mindex.pyx:196\u001b[0m, in \u001b[0;36mpandas._libs.index.IndexEngine.get_loc\u001b[1;34m()\u001b[0m\n",
      "File \u001b[1;32mpandas\\\\_libs\\\\hashtable_class_helper.pxi:7081\u001b[0m, in \u001b[0;36mpandas._libs.hashtable.PyObjectHashTable.get_item\u001b[1;34m()\u001b[0m\n",
      "File \u001b[1;32mpandas\\\\_libs\\\\hashtable_class_helper.pxi:7089\u001b[0m, in \u001b[0;36mpandas._libs.hashtable.PyObjectHashTable.get_item\u001b[1;34m()\u001b[0m\n",
      "\u001b[1;31mKeyError\u001b[0m: 'nBJets'",
      "\nThe above exception was the direct cause of the following exception:\n",
      "\u001b[1;31mKeyError\u001b[0m                                  Traceback (most recent call last)",
      "Cell \u001b[1;32mIn[3], line 1\u001b[0m\n\u001b[1;32m----> 1\u001b[0m interactive_multi_histograms([\u001b[38;5;124m\"\u001b[39m\u001b[38;5;124mETmiss\u001b[39m\u001b[38;5;124m\"\u001b[39m, \u001b[38;5;124m\"\u001b[39m\u001b[38;5;124mm_ll\u001b[39m\u001b[38;5;124m\"\u001b[39m, \u001b[38;5;124m\"\u001b[39m\u001b[38;5;124mpT_ll\u001b[39m\u001b[38;5;124m\"\u001b[39m])\n",
      "Cell \u001b[1;32mIn[1], line 85\u001b[0m, in \u001b[0;36minteractive_multi_histograms\u001b[1;34m(variables)\u001b[0m\n\u001b[0;32m     82\u001b[0m     fig\u001b[38;5;241m.\u001b[39mcanvas\u001b[38;5;241m.\u001b[39mdraw_idle()\n\u001b[0;32m     84\u001b[0m \u001b[38;5;66;03m# Initial plot\u001b[39;00m\n\u001b[1;32m---> 85\u001b[0m update()\n\u001b[0;32m     87\u001b[0m \u001b[38;5;66;03m# Connect widgets to update function\u001b[39;00m\n\u001b[0;32m     88\u001b[0m slider_etmiss_min\u001b[38;5;241m.\u001b[39mon_changed(update)\n",
      "Cell \u001b[1;32mIn[1], line 68\u001b[0m, in \u001b[0;36minteractive_multi_histograms.<locals>.update\u001b[1;34m(val)\u001b[0m\n\u001b[0;32m     66\u001b[0m \u001b[38;5;66;03m# Background first\u001b[39;00m\n\u001b[0;32m     67\u001b[0m \u001b[38;5;28;01mfor\u001b[39;00m label, df \u001b[38;5;129;01min\u001b[39;00m background_data\u001b[38;5;241m.\u001b[39mitems():\n\u001b[1;32m---> 68\u001b[0m     df_cut \u001b[38;5;241m=\u001b[39m apply_cuts(df, etmiss_min, etmiss_max, bjets)\n\u001b[0;32m     69\u001b[0m     ax\u001b[38;5;241m.\u001b[39mhist(df_cut[var], bins\u001b[38;5;241m=\u001b[39m\u001b[38;5;241m50\u001b[39m, alpha\u001b[38;5;241m=\u001b[39m\u001b[38;5;241m0.4\u001b[39m, label\u001b[38;5;241m=\u001b[39mlabel)\n\u001b[0;32m     71\u001b[0m \u001b[38;5;66;03m# Signal next, in reversed mass order so 2000 is on top\u001b[39;00m\n",
      "Cell \u001b[1;32mIn[1], line 29\u001b[0m, in \u001b[0;36mapply_cuts\u001b[1;34m(df, etmiss_min, etmiss_max, bjets_required)\u001b[0m\n\u001b[0;32m     25\u001b[0m \u001b[38;5;28;01mdef\u001b[39;00m\u001b[38;5;250m \u001b[39m\u001b[38;5;21mapply_cuts\u001b[39m(df, etmiss_min, etmiss_max, bjets_required):\n\u001b[0;32m     26\u001b[0m     \u001b[38;5;28;01mreturn\u001b[39;00m df[\n\u001b[0;32m     27\u001b[0m         (df[\u001b[38;5;124m\"\u001b[39m\u001b[38;5;124mETmiss\u001b[39m\u001b[38;5;124m\"\u001b[39m] \u001b[38;5;241m>\u001b[39m\u001b[38;5;241m=\u001b[39m etmiss_min) \u001b[38;5;241m&\u001b[39m\n\u001b[0;32m     28\u001b[0m         (df[\u001b[38;5;124m\"\u001b[39m\u001b[38;5;124mETmiss\u001b[39m\u001b[38;5;124m\"\u001b[39m] \u001b[38;5;241m<\u001b[39m\u001b[38;5;241m=\u001b[39m etmiss_max) \u001b[38;5;241m&\u001b[39m\n\u001b[1;32m---> 29\u001b[0m         (df[\u001b[38;5;124m\"\u001b[39m\u001b[38;5;124mnBJets\u001b[39m\u001b[38;5;124m\"\u001b[39m] \u001b[38;5;241m==\u001b[39m bjets_required)\n\u001b[0;32m     30\u001b[0m     ]\n",
      "File \u001b[1;32mD:\\Anaconda\\Lib\\site-packages\\pandas\\core\\frame.py:4102\u001b[0m, in \u001b[0;36mDataFrame.__getitem__\u001b[1;34m(self, key)\u001b[0m\n\u001b[0;32m   4100\u001b[0m \u001b[38;5;28;01mif\u001b[39;00m \u001b[38;5;28mself\u001b[39m\u001b[38;5;241m.\u001b[39mcolumns\u001b[38;5;241m.\u001b[39mnlevels \u001b[38;5;241m>\u001b[39m \u001b[38;5;241m1\u001b[39m:\n\u001b[0;32m   4101\u001b[0m     \u001b[38;5;28;01mreturn\u001b[39;00m \u001b[38;5;28mself\u001b[39m\u001b[38;5;241m.\u001b[39m_getitem_multilevel(key)\n\u001b[1;32m-> 4102\u001b[0m indexer \u001b[38;5;241m=\u001b[39m \u001b[38;5;28mself\u001b[39m\u001b[38;5;241m.\u001b[39mcolumns\u001b[38;5;241m.\u001b[39mget_loc(key)\n\u001b[0;32m   4103\u001b[0m \u001b[38;5;28;01mif\u001b[39;00m is_integer(indexer):\n\u001b[0;32m   4104\u001b[0m     indexer \u001b[38;5;241m=\u001b[39m [indexer]\n",
      "File \u001b[1;32mD:\\Anaconda\\Lib\\site-packages\\pandas\\core\\indexes\\base.py:3812\u001b[0m, in \u001b[0;36mIndex.get_loc\u001b[1;34m(self, key)\u001b[0m\n\u001b[0;32m   3807\u001b[0m     \u001b[38;5;28;01mif\u001b[39;00m \u001b[38;5;28misinstance\u001b[39m(casted_key, \u001b[38;5;28mslice\u001b[39m) \u001b[38;5;129;01mor\u001b[39;00m (\n\u001b[0;32m   3808\u001b[0m         \u001b[38;5;28misinstance\u001b[39m(casted_key, abc\u001b[38;5;241m.\u001b[39mIterable)\n\u001b[0;32m   3809\u001b[0m         \u001b[38;5;129;01mand\u001b[39;00m \u001b[38;5;28many\u001b[39m(\u001b[38;5;28misinstance\u001b[39m(x, \u001b[38;5;28mslice\u001b[39m) \u001b[38;5;28;01mfor\u001b[39;00m x \u001b[38;5;129;01min\u001b[39;00m casted_key)\n\u001b[0;32m   3810\u001b[0m     ):\n\u001b[0;32m   3811\u001b[0m         \u001b[38;5;28;01mraise\u001b[39;00m InvalidIndexError(key)\n\u001b[1;32m-> 3812\u001b[0m     \u001b[38;5;28;01mraise\u001b[39;00m \u001b[38;5;167;01mKeyError\u001b[39;00m(key) \u001b[38;5;28;01mfrom\u001b[39;00m\u001b[38;5;250m \u001b[39m\u001b[38;5;21;01merr\u001b[39;00m\n\u001b[0;32m   3813\u001b[0m \u001b[38;5;28;01mexcept\u001b[39;00m \u001b[38;5;167;01mTypeError\u001b[39;00m:\n\u001b[0;32m   3814\u001b[0m     \u001b[38;5;66;03m# If we have a listlike key, _check_indexing_error will raise\u001b[39;00m\n\u001b[0;32m   3815\u001b[0m     \u001b[38;5;66;03m#  InvalidIndexError. Otherwise we fall through and re-raise\u001b[39;00m\n\u001b[0;32m   3816\u001b[0m     \u001b[38;5;66;03m#  the TypeError.\u001b[39;00m\n\u001b[0;32m   3817\u001b[0m     \u001b[38;5;28mself\u001b[39m\u001b[38;5;241m.\u001b[39m_check_indexing_error(key)\n",
      "\u001b[1;31mKeyError\u001b[0m: 'nBJets'"
     ]
    },
    {
     "data": {
      "image/png": "[encoded data removed]",
      "text/plain": [
       "<Figure size 1000x1500 with 6 Axes>"
      ]
     },
     "metadata": {},
     "output_type": "display_data"
    }
   ],
   "source": [
    "interactive_multi_histograms([\"ETmiss\", \"m_ll\", \"pT_ll\"])"
   ]
  },
  {
   "cell_type": "code",
   "execution_count": null,
   "id": "93de9fab-0777-4837-bed5-023a827fe3ca",
   "metadata": {},
   "outputs": [],
   "source": []
  }
 ],
 "metadata": {
  "kernelspec": {
   "display_name": "Python [conda env:base] *",
   "language": "python",
   "name": "conda-base-py"
  },
  "language_info": {
   "codemirror_mode": {
    "name": "ipython",
    "version": 3
   },
   "file_extension": ".py",
   "mimetype": "text/x-python",
   "name": "python",
   "nbconvert_exporter": "python",
   "pygments_lexer": "ipython3",
   "version": "3.13.5"
  }
 },
 "nbformat": 4,
 "nbformat_minor": 5
}
